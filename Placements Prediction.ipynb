{
 "cells": [
  {
   "cell_type": "markdown",
   "id": "0faa61d1",
   "metadata": {},
   "source": [
    "# Part-1: Data Exploration and Pre-processing"
   ]
  },
  {
   "cell_type": "markdown",
   "id": "8ffebd4e",
   "metadata": {},
   "source": [
    "### Installing libraries"
   ]
  },
  {
   "cell_type": "code",
   "execution_count": 1,
   "id": "8308e232",
   "metadata": {},
   "outputs": [
    {
     "name": "stdout",
     "output_type": "stream",
     "text": [
      "Requirement already satisfied: missingno in c:\\users\\madhu\\anaconda3\\lib\\site-packages (0.5.1)\n",
      "Requirement already satisfied: seaborn in c:\\users\\madhu\\anaconda3\\lib\\site-packages (from missingno) (0.11.2)\n",
      "Requirement already satisfied: scipy in c:\\users\\madhu\\anaconda3\\lib\\site-packages (from missingno) (1.9.1)\n",
      "Requirement already satisfied: numpy in c:\\users\\madhu\\anaconda3\\lib\\site-packages (from missingno) (1.21.5)\n",
      "Requirement already satisfied: matplotlib in c:\\users\\madhu\\anaconda3\\lib\\site-packages (from missingno) (3.5.2)\n",
      "Requirement already satisfied: pillow>=6.2.0 in c:\\users\\madhu\\anaconda3\\lib\\site-packages (from matplotlib->missingno) (9.2.0)\n",
      "Requirement already satisfied: packaging>=20.0 in c:\\users\\madhu\\anaconda3\\lib\\site-packages (from matplotlib->missingno) (21.3)\n",
      "Requirement already satisfied: fonttools>=4.22.0 in c:\\users\\madhu\\anaconda3\\lib\\site-packages (from matplotlib->missingno) (4.25.0)\n",
      "Requirement already satisfied: pyparsing>=2.2.1 in c:\\users\\madhu\\anaconda3\\lib\\site-packages (from matplotlib->missingno) (3.0.9)\n",
      "Requirement already satisfied: python-dateutil>=2.7 in c:\\users\\madhu\\anaconda3\\lib\\site-packages (from matplotlib->missingno) (2.8.2)\n",
      "Requirement already satisfied: kiwisolver>=1.0.1 in c:\\users\\madhu\\anaconda3\\lib\\site-packages (from matplotlib->missingno) (1.4.2)\n",
      "Requirement already satisfied: cycler>=0.10 in c:\\users\\madhu\\anaconda3\\lib\\site-packages (from matplotlib->missingno) (0.11.0)\n",
      "Requirement already satisfied: pandas>=0.23 in c:\\users\\madhu\\anaconda3\\lib\\site-packages (from seaborn->missingno) (1.4.4)\n",
      "Requirement already satisfied: pytz>=2020.1 in c:\\users\\madhu\\anaconda3\\lib\\site-packages (from pandas>=0.23->seaborn->missingno) (2022.1)\n",
      "Requirement already satisfied: six>=1.5 in c:\\users\\madhu\\anaconda3\\lib\\site-packages (from python-dateutil>=2.7->matplotlib->missingno) (1.16.0)\n",
      "Requirement already satisfied: xgboost in c:\\users\\madhu\\anaconda3\\lib\\site-packages (1.7.2)\n",
      "Requirement already satisfied: numpy in c:\\users\\madhu\\anaconda3\\lib\\site-packages (from xgboost) (1.21.5)\n",
      "Requirement already satisfied: scipy in c:\\users\\madhu\\anaconda3\\lib\\site-packages (from xgboost) (1.9.1)\n"
     ]
    }
   ],
   "source": [
    "#for plotting missing values\n",
    "!pip install missingno\n",
    "!pip install xgboost"
   ]
  },
  {
   "cell_type": "markdown",
   "id": "b2195eec",
   "metadata": {},
   "source": [
    "### Importing Dependencies"
   ]
  },
  {
   "cell_type": "code",
   "execution_count": null,
   "id": "46c9620b",
   "metadata": {},
   "outputs": [],
   "source": [
    "import pandas as pd\n",
    "import numpy as np\n",
    "\n",
    "import matplotlib.pyplot as plt\n",
    "import seaborn as sns\n",
    "import plotly.express as px\n",
    "import missingno as missing\n",
    "\n",
    "import warnings\n",
    "warnings.filterwarnings('ignore')\n",
    "\n",
    "from sklearn.preprocessing import OneHotEncoder\n",
    "from sklearn.preprocessing import StandardScaler\n",
    "from sklearn.model_selection import train_test_split, ShuffleSplit, GridSearchCV\n",
    "from sklearn.linear_model import LogisticRegression\n",
    "from sklearn.tree import DecisionTreeClassifier\n",
    "from sklearn.ensemble import RandomForestClassifier\n",
    "from xgboost import XGBClassifier\n",
    "from sklearn.neighbors import KNeighborsClassifier\n",
    "from sklearn.metrics import accuracy_score, plot_confusion_matrix"
   ]
  },
  {
   "cell_type": "markdown",
   "id": "5c441aea",
   "metadata": {},
   "source": [
    "### Importing Data"
   ]
  },
  {
   "cell_type": "code",
   "execution_count": null,
   "id": "3458e849",
   "metadata": {},
   "outputs": [],
   "source": [
    "df=pd.read_csv('collegePlace.csv')"
   ]
  },
  {
   "cell_type": "code",
   "execution_count": null,
   "id": "b45d4a9a",
   "metadata": {},
   "outputs": [],
   "source": [
    "#5 sample rows of data\n",
    "df.sample(5)"
   ]
  },
  {
   "cell_type": "markdown",
   "id": "1e88bf2c",
   "metadata": {},
   "source": [
    "### Shape & Size of Data"
   ]
  },
  {
   "cell_type": "code",
   "execution_count": null,
   "id": "ad5a702d",
   "metadata": {},
   "outputs": [],
   "source": [
    "df.shape"
   ]
  },
  {
   "cell_type": "code",
   "execution_count": null,
   "id": "ab4b60c0",
   "metadata": {},
   "outputs": [],
   "source": [
    "#print(2966*8)\n",
    "df.size"
   ]
  },
  {
   "cell_type": "markdown",
   "id": "29411f60",
   "metadata": {},
   "source": [
    "### Name of Columns"
   ]
  },
  {
   "cell_type": "code",
   "execution_count": null,
   "id": "a9500ad3",
   "metadata": {},
   "outputs": [],
   "source": [
    "df.columns"
   ]
  },
  {
   "cell_type": "markdown",
   "id": "1d30bd48",
   "metadata": {},
   "source": [
    "### Data Types of Features"
   ]
  },
  {
   "cell_type": "code",
   "execution_count": null,
   "id": "afd23af6",
   "metadata": {},
   "outputs": [],
   "source": [
    "df.dtypes"
   ]
  },
  {
   "cell_type": "markdown",
   "id": "397dabb6",
   "metadata": {},
   "source": [
    "**Observations : Two features are categorical type, we will encode them later.**"
   ]
  },
  {
   "cell_type": "code",
   "execution_count": null,
   "id": "ff6d7fcd",
   "metadata": {},
   "outputs": [],
   "source": [
    "df.info()"
   ]
  },
  {
   "cell_type": "markdown",
   "id": "1ea0f02d",
   "metadata": {},
   "source": [
    "### Unique number of values in a particular feature"
   ]
  },
  {
   "cell_type": "code",
   "execution_count": null,
   "id": "794f85b4",
   "metadata": {},
   "outputs": [],
   "source": [
    "df.nunique()"
   ]
  },
  {
   "cell_type": "markdown",
   "id": "3dd963b2",
   "metadata": {},
   "source": [
    "### Value Counts"
   ]
  },
  {
   "cell_type": "code",
   "execution_count": null,
   "id": "dea92fb7",
   "metadata": {},
   "outputs": [],
   "source": [
    "#percent of all categories in categorical feature \n",
    "for col in df.columns:\n",
    "    print(f'{col}\\n{(df[col].value_counts()/df.shape[0])*100}\\n')"
   ]
  },
  {
   "cell_type": "markdown",
   "id": "1ac0d68a",
   "metadata": {},
   "source": [
    "### Missing Values"
   ]
  },
  {
   "cell_type": "code",
   "execution_count": null,
   "id": "d03813a6",
   "metadata": {},
   "outputs": [],
   "source": [
    "df.isnull().sum()"
   ]
  },
  {
   "cell_type": "markdown",
   "id": "9e0b5eec",
   "metadata": {},
   "source": [
    "**Observations : There are no missing values.**"
   ]
  },
  {
   "cell_type": "code",
   "execution_count": null,
   "id": "010aab27",
   "metadata": {},
   "outputs": [],
   "source": [
    "missing.bar(df, color=(0,0,0))\n",
    "plt.title('Non-Missing Values', size=45, y=1.15)"
   ]
  },
  {
   "cell_type": "markdown",
   "id": "d2a02a58",
   "metadata": {},
   "source": [
    "### Duplicate rows"
   ]
  },
  {
   "cell_type": "code",
   "execution_count": null,
   "id": "2a1d8b76",
   "metadata": {},
   "outputs": [],
   "source": [
    "df.duplicated().sum()"
   ]
  },
  {
   "cell_type": "code",
   "execution_count": null,
   "id": "dcb03d47",
   "metadata": {},
   "outputs": [],
   "source": [
    "#df.drop_duplicates(inplace=True)"
   ]
  },
  {
   "cell_type": "code",
   "execution_count": null,
   "id": "c0ade7dc",
   "metadata": {},
   "outputs": [],
   "source": [
    "df.shape"
   ]
  },
  {
   "cell_type": "markdown",
   "id": "7fe6aba7",
   "metadata": {},
   "source": [
    "### Statistical Description of Numerical & Categorical Features"
   ]
  },
  {
   "cell_type": "code",
   "execution_count": null,
   "id": "de956a46",
   "metadata": {},
   "outputs": [],
   "source": [
    "round(df.describe(exclude = 'object'), 2)"
   ]
  },
  {
   "cell_type": "code",
   "execution_count": null,
   "id": "46710e5a",
   "metadata": {},
   "outputs": [],
   "source": [
    "round(df.describe(exclude = ['float', 'int64']), 2)"
   ]
  },
  {
   "cell_type": "markdown",
   "id": "464f7d56",
   "metadata": {},
   "source": [
    "### Correlation "
   ]
  },
  {
   "cell_type": "code",
   "execution_count": null,
   "id": "e5a33c31",
   "metadata": {},
   "outputs": [],
   "source": [
    "df.corr()"
   ]
  },
  {
   "cell_type": "markdown",
   "id": "96a2394f",
   "metadata": {},
   "source": [
    "##### Observations : CGPA & Internships looks highly correlated with Placements"
   ]
  },
  {
   "cell_type": "markdown",
   "id": "3ceb0c1a",
   "metadata": {},
   "source": [
    "### Exploratory Data Analysis"
   ]
  },
  {
   "cell_type": "markdown",
   "id": "ef882d07",
   "metadata": {},
   "source": [
    "#### UNIVARIATE ANALYSIS"
   ]
  },
  {
   "cell_type": "markdown",
   "id": "2227df2c",
   "metadata": {},
   "source": [
    "##### Find distribution of age, mean age of students"
   ]
  },
  {
   "cell_type": "code",
   "execution_count": null,
   "id": "adc7d16c",
   "metadata": {},
   "outputs": [],
   "source": [
    "fig = px.histogram(df, 'Age',\n",
    "                   title=\"<b>Age of Students</b>\")\n",
    "\n",
    "fig.add_vline(x=df['Age'].mean(), line_width=2, line_dash=\"dash\", line_color=\"red\")\n",
    "fig.add_vline(x=df['Age'].median(), line_width=2, line_dash=\"dash\", line_color=\"yellow\")\n",
    "fig.show()"
   ]
  },
  {
   "cell_type": "markdown",
   "id": "ae8bacba",
   "metadata": {},
   "source": [
    "##### Observations : \n",
    "1. Highest number of age students are of 21\n",
    "2. Since Age is positively skewed, mean>median\n",
    "3. There seems to have some outliers of age more than 24 (isn't that strange, Engineering students with this age)"
   ]
  },
  {
   "cell_type": "code",
   "execution_count": null,
   "id": "4d81b6e4",
   "metadata": {},
   "outputs": [],
   "source": [
    "print(f'Mean - {df.Age.mean()}')\n",
    "print(f'Median - {df.Age.median()}')\n",
    "print(f'Mode-{df.Age.mode()}')"
   ]
  },
  {
   "cell_type": "markdown",
   "id": "7fa9fdcb",
   "metadata": {},
   "source": [
    "##### Find ratio of males and females"
   ]
  },
  {
   "cell_type": "code",
   "execution_count": null,
   "id": "ce2288e8",
   "metadata": {},
   "outputs": [],
   "source": [
    "px.pie(title=\"<b>Gender Ratio</b>\", names='Gender', data_frame=df, color='Gender', hole=0.5, template = \"plotly_dark\")"
   ]
  },
  {
   "cell_type": "markdown",
   "id": "690e0449",
   "metadata": {},
   "source": [
    "##### Observations : Most of the students are Male, very few are females."
   ]
  },
  {
   "cell_type": "markdown",
   "id": "e1e64ee7",
   "metadata": {},
   "source": [
    "##### Display word cloud for streams taken by students"
   ]
  },
  {
   "cell_type": "code",
   "execution_count": null,
   "id": "f9756c66",
   "metadata": {},
   "outputs": [],
   "source": [
    "#plot_word_cloud(data, \"Stream\")"
   ]
  },
  {
   "cell_type": "code",
   "execution_count": null,
   "id": "dcc6424d",
   "metadata": {},
   "outputs": [],
   "source": [
    "px.histogram(x='Stream', data_frame=df, color='Stream')"
   ]
  },
  {
   "cell_type": "markdown",
   "id": "8125da49",
   "metadata": {},
   "source": [
    "##### Observations : Most of the students belongs to Computer Science and very few from Civil Engineering."
   ]
  },
  {
   "cell_type": "markdown",
   "id": "631a529e",
   "metadata": {},
   "source": [
    "##### Find distribution of internships done by students"
   ]
  },
  {
   "cell_type": "code",
   "execution_count": null,
   "id": "0a6a10c2",
   "metadata": {},
   "outputs": [],
   "source": [
    "px.histogram(x='Internships', data_frame=df, color='Internships')"
   ]
  },
  {
   "cell_type": "markdown",
   "id": "1f04127e",
   "metadata": {},
   "source": [
    "##### Observations : \n",
    "1. Highest number of students haven't done any internship.\n",
    "2. very few students have done more than one internship"
   ]
  },
  {
   "cell_type": "markdown",
   "id": "d4171e98",
   "metadata": {},
   "source": [
    "##### Find distribution of CGPA acquired by students in their Engineering"
   ]
  },
  {
   "cell_type": "code",
   "execution_count": null,
   "id": "40b714ac",
   "metadata": {},
   "outputs": [],
   "source": [
    "px.histogram(x='CGPA', data_frame=df, color='CGPA')"
   ]
  },
  {
   "cell_type": "markdown",
   "id": "ae75f017",
   "metadata": {},
   "source": [
    "##### Observations : \n",
    "1. Highest number of students have 7 CGPA, second highest is 8 CGPA\n",
    "2. Very few students are there having 9 CGPA"
   ]
  },
  {
   "cell_type": "markdown",
   "id": "cfc2081c",
   "metadata": {},
   "source": [
    "##### Find ratio of students living in hostel or not"
   ]
  },
  {
   "cell_type": "code",
   "execution_count": null,
   "id": "ba807265",
   "metadata": {},
   "outputs": [],
   "source": [
    "px.pie(title=\"<b>Hostlers Ratio</b>\", names='Hostel', data_frame=df, color='Hostel', hole=0.5, template = \"plotly_dark\")"
   ]
  },
  {
   "cell_type": "markdown",
   "id": "b5cec2fc",
   "metadata": {},
   "source": [
    "##### Observations : Most of the students are local residents & very few stay in hostels."
   ]
  },
  {
   "cell_type": "markdown",
   "id": "d9fbb772",
   "metadata": {},
   "source": [
    "##### Find ratio of students having backlogs or not"
   ]
  },
  {
   "cell_type": "code",
   "execution_count": null,
   "id": "009c3f28",
   "metadata": {},
   "outputs": [],
   "source": [
    "px.pie(title=\"<b>Backlogs Ratio</b>\", names='HistoryOfBacklogs', data_frame=df, color='HistoryOfBacklogs', hole=0.5, template = \"plotly_dark\")"
   ]
  },
  {
   "cell_type": "markdown",
   "id": "89baa7ee",
   "metadata": {},
   "source": [
    "##### Observations : Very few students have backlogs(sounds great!)"
   ]
  },
  {
   "cell_type": "markdown",
   "id": "95a4e46c",
   "metadata": {},
   "source": [
    "##### Find ratio of students got placed to those who did not got placed"
   ]
  },
  {
   "cell_type": "code",
   "execution_count": null,
   "id": "a4e25636",
   "metadata": {},
   "outputs": [],
   "source": [
    "px.histogram(x='PlacedOrNot', data_frame=df, color='PlacedOrNot')\n",
    "px.pie(title=\"<b>Placement Ratio</b>\", names='PlacedOrNot', data_frame=df, color='PlacedOrNot', hole=0.5, template = \"plotly_dark\")"
   ]
  },
  {
   "cell_type": "markdown",
   "id": "b5ff95d8",
   "metadata": {},
   "source": [
    "##### Observation : Ratio of students getting placed versus those who didn't got placed is approximately same, hence its almost balanced."
   ]
  },
  {
   "cell_type": "markdown",
   "id": "c11e1d8d",
   "metadata": {},
   "source": [
    "#### BIVARIATE ANALYSIS"
   ]
  },
  {
   "cell_type": "markdown",
   "id": "1227667d",
   "metadata": {},
   "source": [
    "##### Find gender-wise average age"
   ]
  },
  {
   "cell_type": "code",
   "execution_count": null,
   "id": "0005eb17",
   "metadata": {},
   "outputs": [],
   "source": [
    "#gender wise average age\n",
    "fig = px.histogram(df, 'Age',             \n",
    "                   color = \"Gender\",\n",
    "                   marginal = 'violin',\n",
    "                   title = \"<b>Average Age Gender wise</b>\")\n",
    "\n",
    "fig.update_traces(marker = {\"opacity\": 0.7})\n",
    "\n",
    "fig.add_vline(x = df['Age'].mean(),\n",
    "              line_width = 2,\n",
    "              line_dash = \"dash\",\n",
    "              line_color = \"black\")\n",
    "\n",
    "fig.show()"
   ]
  },
  {
   "cell_type": "markdown",
   "id": "1b4ec591",
   "metadata": {},
   "source": [
    "##### Observations : \n",
    "1. Females are more in number than males in every age category."
   ]
  },
  {
   "cell_type": "markdown",
   "id": "f50e0cc1",
   "metadata": {},
   "source": [
    "##### What is the effect of age on getting placed"
   ]
  },
  {
   "cell_type": "code",
   "execution_count": null,
   "id": "02d0eaac",
   "metadata": {},
   "outputs": [],
   "source": [
    "#effect of age on getting placed\n",
    "fig = px.histogram(df, x=\"Age\", color =\"PlacedOrNot\", pattern_shape=\"PlacedOrNot\",\n",
    "                   template='plotly_dark', barmode='group',color_discrete_sequence=['blue'])\n",
    "\n",
    "fig.update_layout(bargap=0.2)\n",
    "\n",
    "fig.show()"
   ]
  },
  {
   "cell_type": "markdown",
   "id": "88518a6f",
   "metadata": {},
   "source": [
    "##### Observations : \n",
    "1. Students having ages \"21\" & \"22\" have more chances of getting placed through campus placements.\n",
    "2. Students whose age is between 28-30 have fewer chances of getting placed."
   ]
  },
  {
   "cell_type": "markdown",
   "id": "f84c61db",
   "metadata": {},
   "source": [
    "##### How gender is affecting placement"
   ]
  },
  {
   "cell_type": "code",
   "execution_count": null,
   "id": "dbacab12",
   "metadata": {},
   "outputs": [],
   "source": [
    "#How gender is affecting placement\n",
    "fig = px.histogram(df, x=\"Gender\", color =\"PlacedOrNot\", pattern_shape=\"PlacedOrNot\",\n",
    "                   template='plotly_dark', barmode='group',color_discrete_sequence=['blue'])\n",
    "\n",
    "fig.update_layout(bargap=0.2)\n",
    "\n",
    "fig.show()"
   ]
  },
  {
   "cell_type": "markdown",
   "id": "5b4ad717",
   "metadata": {},
   "source": [
    "##### Observations : Generally males are getting placed more than females"
   ]
  },
  {
   "cell_type": "markdown",
   "id": "a09fb10a",
   "metadata": {},
   "source": [
    "##### Which stream students have best and worst placement records"
   ]
  },
  {
   "cell_type": "code",
   "execution_count": null,
   "id": "db57961d",
   "metadata": {},
   "outputs": [],
   "source": [
    "#Which stream students have best and worst placement records\n",
    "fig = px.histogram(data_frame = df,\n",
    "             x = \"Stream\",\n",
    "             color=\"PlacedOrNot\", title=\"<b>Counts of Stream</b>\",\n",
    "             template='plotly_dark')\n",
    "\n",
    "fig.update_layout(title_x = 0.5,\n",
    "                  title_font = dict(size = 20),\n",
    "                  uniformtext_minsize = 15)\n",
    "\n",
    "\n",
    "fig.show()"
   ]
  },
  {
   "cell_type": "markdown",
   "id": "7046b642",
   "metadata": {},
   "source": [
    "##### Observations : \n",
    "1. Most of the students who got placed are from Computer Science and Information Technology Stream.\n",
    "2. Very few students from the \"Civil\" and \"Electrical\" stream and got placed successfully."
   ]
  },
  {
   "cell_type": "markdown",
   "id": "1d4a02e2",
   "metadata": {},
   "source": [
    "##### How the number of internships done is affecting placement"
   ]
  },
  {
   "cell_type": "code",
   "execution_count": null,
   "id": "ebbb8f37",
   "metadata": {},
   "outputs": [],
   "source": [
    "#How the number of internships done is affecting placement\n",
    "fig = px.histogram(df, x=\"Internships\", color =\"PlacedOrNot\", pattern_shape=\"PlacedOrNot\",\n",
    "                   template='plotly_dark', barmode='group',color_discrete_sequence=['blue'])\n",
    "\n",
    "fig.update_layout(bargap=0.2)\n",
    "\n",
    "fig.show()"
   ]
  },
  {
   "cell_type": "markdown",
   "id": "05f55207",
   "metadata": {},
   "source": [
    "##### Observations :\n",
    "1. Most of students who have done 1 or even no internships have got placed\n",
    "2. very few students have done more than 1 internship and yes got successfully plaed"
   ]
  },
  {
   "cell_type": "code",
   "execution_count": null,
   "id": "c84605bc",
   "metadata": {},
   "outputs": [],
   "source": [
    "zero_internships = df[df['Internships']==0]"
   ]
  },
  {
   "cell_type": "code",
   "execution_count": null,
   "id": "ecc8e9aa",
   "metadata": {},
   "outputs": [],
   "source": [
    "fig = px.histogram(data_frame=zero_internships, x='PlacedOrNot', color='PlacedOrNot', \n",
    "                  title = \"<b>Zero Internship Experience Vs Placement</b>\",\n",
    "                   template = 'plotly_dark')\n",
    "fig.update_layout(bargap = 0.2)\n",
    "fig.show()"
   ]
  },
  {
   "cell_type": "markdown",
   "id": "112ff946",
   "metadata": {},
   "source": [
    "##### Observations : \n",
    "1. Even after doing no internship, ratio of getting placed or not is almost the same."
   ]
  },
  {
   "cell_type": "markdown",
   "id": "4a234bae",
   "metadata": {},
   "source": [
    "##### What role CGPA is playing in getting placed"
   ]
  },
  {
   "cell_type": "code",
   "execution_count": null,
   "id": "fcdc8d1c",
   "metadata": {},
   "outputs": [],
   "source": [
    "fig = plt.figure(figsize=(10,7))\n",
    "ax = fig.add_subplot(111)\n",
    "plt.title('Placement Distribution By CGPA', size=28)\n",
    "\n",
    "ax.text(9,0.5, 'Placed', {'fontproperties': 'Serif','size': '20','weight': 'bold','color': 'orange'}, alpha=0.9)\n",
    "ax.text(4.5, 0.5, 'Not Placed', {'fontproperties': 'Serif','size': '20','weight': 'bold','color': 'blue'}, alpha=0.9)\n",
    "\n",
    "sns.kdeplot(data=df[df['PlacedOrNot']==1], x='CGPA', shade=True, ax=ax, color='orange', alpha=1)\n",
    "sns.kdeplot(data=df[df['PlacedOrNot']==0], x='CGPA', shade=True, ax=ax, color='blue', alpha=0.5)\n",
    "\n",
    "plt.xlabel(\"CGPA\", {'fontproperties': 'Serif','size': '25','weight': 'bold'})\n",
    "plt.show()"
   ]
  },
  {
   "cell_type": "markdown",
   "id": "768badbf",
   "metadata": {},
   "source": [
    "##### Observations : \n",
    "1. 100% students who have CGPA > 7 got placed\n",
    "2. approximately no students who have CGPA <6 got placed\n",
    "3. Very few students having CGPA 6 or 7 got placed"
   ]
  },
  {
   "cell_type": "code",
   "execution_count": null,
   "id": "8163658b",
   "metadata": {},
   "outputs": [],
   "source": [
    "#What role CGPA is playing in getting placed\n",
    "cgpa_above_avg = df[df['CGPA'] > df['CGPA'].mean()]\n",
    "cgpa_below_avg = df[df['CGPA'] <= df['CGPA'].mean()]"
   ]
  },
  {
   "cell_type": "code",
   "execution_count": null,
   "id": "20b76bb9",
   "metadata": {},
   "outputs": [],
   "source": [
    "cgpa_above_avg"
   ]
  },
  {
   "cell_type": "code",
   "execution_count": null,
   "id": "905118d5",
   "metadata": {},
   "outputs": [],
   "source": [
    "fig = px.histogram(data_frame=cgpa_above_avg, x=\"CGPA\", \n",
    "                   color =\"PlacedOrNot\",\n",
    "                   title = \"<b>Above Average CGPA Vs Placement</b>\",\n",
    "                   pattern_shape=\"PlacedOrNot\",\n",
    "                   template='plotly_dark', barmode='group',color_discrete_sequence=['blue'])\n",
    "\n",
    "fig.update_layout(bargap=0.2)\n",
    "\n",
    "fig.show()"
   ]
  },
  {
   "cell_type": "markdown",
   "id": "cc45b370",
   "metadata": {},
   "source": [
    "##### Observations : 100% students who have CGPA > 7 got placed"
   ]
  },
  {
   "cell_type": "code",
   "execution_count": null,
   "id": "ebd23a02",
   "metadata": {},
   "outputs": [],
   "source": [
    "fig = px.histogram(data_frame = cgpa_below_avg,\n",
    "                   x = 'CGPA',\n",
    "                   color='PlacedOrNot',\n",
    "                   title = \"<b>Below Average CGPA Vs Placement</b>\",\n",
    "                   template='plotly_dark', barmode='group')\n",
    "\n",
    "#fig.update_layout(bargap=0.2)\n",
    "\n",
    "fig.show()"
   ]
  },
  {
   "cell_type": "markdown",
   "id": "c701ede5",
   "metadata": {},
   "source": [
    "##### Observations : Very few students having CGPA 5 got placed"
   ]
  },
  {
   "cell_type": "markdown",
   "id": "9a25e5ad",
   "metadata": {},
   "source": [
    "##### Does living in hostel has an impact on getting placed"
   ]
  },
  {
   "cell_type": "code",
   "execution_count": null,
   "id": "6abb029b",
   "metadata": {},
   "outputs": [],
   "source": [
    "#Does living in hostel has an impact on getting placed\n",
    "fig = px.histogram(df, x='Hostel', color='PlacedOrNot', barmode='group')\n",
    "fig.update_layout(bargap=0.2)\n",
    "fig.show()"
   ]
  },
  {
   "cell_type": "markdown",
   "id": "51b32ebb",
   "metadata": {},
   "source": [
    "**Observations : Local resedentials are the ones who got higher placements, while hostlers are approximately equal in terms of getting placed or not.**"
   ]
  },
  {
   "cell_type": "markdown",
   "id": "8affcbd3",
   "metadata": {},
   "source": [
    "##### What is the effect of backlogs on placements"
   ]
  },
  {
   "cell_type": "code",
   "execution_count": null,
   "id": "8698915f",
   "metadata": {},
   "outputs": [],
   "source": [
    "#what is the effect of backlogs on placements\n",
    "fig = px.histogram(df, x='HistoryOfBacklogs', color='PlacedOrNot', barmode='group')\n",
    "fig.update_layout(bargap=0.2)\n",
    "fig.show()"
   ]
  },
  {
   "cell_type": "markdown",
   "id": "f6e61b34",
   "metadata": {},
   "source": [
    "**Observations : Most of the students who don't have backlogs got placed.**"
   ]
  },
  {
   "cell_type": "markdown",
   "id": "98f66ba0",
   "metadata": {},
   "source": [
    "#### Multivariate Analysis"
   ]
  },
  {
   "cell_type": "code",
   "execution_count": null,
   "id": "94006832",
   "metadata": {},
   "outputs": [],
   "source": [
    "stream_wise = df.groupby('Stream').agg({'Age':'mean',\n",
    "                                          'Internships' : 'sum',                            \n",
    "                                           \"CGPA\":'mean',\n",
    "                                           'PlacedOrNot':'sum'})\n",
    "\n",
    "stream_wise.style.highlight_max()"
   ]
  },
  {
   "cell_type": "code",
   "execution_count": null,
   "id": "d79a16ab",
   "metadata": {},
   "outputs": [],
   "source": [
    "px.bar(data_frame=stream_wise, barmode='group',\n",
    "       title = \"<b>Stream wise Analyzing</b>\",template=\"plotly_dark\")"
   ]
  },
  {
   "cell_type": "markdown",
   "id": "f1091bf4",
   "metadata": {},
   "source": [
    "**Observations : CS & IT students have done maximum internships and got maximum placements.**"
   ]
  },
  {
   "cell_type": "markdown",
   "id": "b82db880",
   "metadata": {},
   "source": [
    "##### Pairplot"
   ]
  },
  {
   "cell_type": "code",
   "execution_count": null,
   "id": "d102c557",
   "metadata": {},
   "outputs": [],
   "source": [
    "#Display pair plot between all the features\n",
    "sns.pairplot(df,hue = 'PlacedOrNot',size = 3,palette='Blues_r')\n",
    "plt.show()"
   ]
  },
  {
   "cell_type": "markdown",
   "id": "6f9b1451",
   "metadata": {},
   "source": [
    "#### Heatmap"
   ]
  },
  {
   "cell_type": "code",
   "execution_count": null,
   "id": "948c3902",
   "metadata": {},
   "outputs": [],
   "source": [
    "#heatmap\n",
    "sns.heatmap(df.corr(), annot=True)"
   ]
  },
  {
   "cell_type": "markdown",
   "id": "0174774c",
   "metadata": {},
   "source": [
    "**Observations : CGPA & Internships are highly correlated with Placements.**"
   ]
  },
  {
   "cell_type": "markdown",
   "id": "259d908e",
   "metadata": {},
   "source": [
    "# Part-2: Working with models"
   ]
  },
  {
   "cell_type": "markdown",
   "id": "94ed25e1",
   "metadata": {},
   "source": [
    "#### Perform encoding on stream features"
   ]
  },
  {
   "cell_type": "code",
   "execution_count": null,
   "id": "47b797a2",
   "metadata": {},
   "outputs": [],
   "source": [
    "print(df.Gender.unique())\n",
    "print(df.Gender.nunique())"
   ]
  },
  {
   "cell_type": "code",
   "execution_count": null,
   "id": "d7955551",
   "metadata": {},
   "outputs": [],
   "source": [
    "print(df.Stream.unique())\n",
    "print(df.Stream.nunique())"
   ]
  },
  {
   "cell_type": "code",
   "execution_count": null,
   "id": "f97536fa",
   "metadata": {},
   "outputs": [],
   "source": [
    "gender_dummy = pd.get_dummies(df['Gender'], drop_first=True)\n",
    "stream_dummy = pd.get_dummies(df['Stream'], drop_first=True)"
   ]
  },
  {
   "cell_type": "code",
   "execution_count": null,
   "id": "08545491",
   "metadata": {},
   "outputs": [],
   "source": [
    "gender_dummy"
   ]
  },
  {
   "cell_type": "code",
   "execution_count": null,
   "id": "a5e737b8",
   "metadata": {},
   "outputs": [],
   "source": [
    "stream_dummy"
   ]
  },
  {
   "cell_type": "code",
   "execution_count": null,
   "id": "cad84552",
   "metadata": {},
   "outputs": [],
   "source": [
    "df = pd.concat([df.drop(['Gender', 'Stream'], axis=1), gender_dummy, stream_dummy], axis=1)\n",
    "df"
   ]
  },
  {
   "cell_type": "markdown",
   "id": "e9eb1707",
   "metadata": {},
   "source": [
    "##### Rearrange features"
   ]
  },
  {
   "cell_type": "code",
   "execution_count": null,
   "id": "3df24749",
   "metadata": {},
   "outputs": [],
   "source": [
    "df = df[['Age', 'Male',\n",
    "             'Electronics And Communication',\n",
    "             'Computer Science', 'Information Technology',\n",
    "             'Mechanical', 'Electrical',\n",
    "             \"Internships\",\"CGPA\",'Hostel',\n",
    "             'HistoryOfBacklogs', 'PlacedOrNot']]\n",
    "\n",
    "df"
   ]
  },
  {
   "cell_type": "markdown",
   "id": "b1d1f848",
   "metadata": {},
   "source": [
    "#### Scaling the dataset"
   ]
  },
  {
   "cell_type": "code",
   "execution_count": null,
   "id": "ce142e52",
   "metadata": {},
   "outputs": [],
   "source": [
    "scaler = StandardScaler()\n",
    "scaler.fit(df.drop('PlacedOrNot',axis=1))\n",
    "scaled_features = scaler.transform(df.drop('PlacedOrNot',axis=1))\n",
    "scaled_features"
   ]
  },
  {
   "cell_type": "code",
   "execution_count": null,
   "id": "ef2c9e1b",
   "metadata": {},
   "outputs": [],
   "source": [
    "df_predictors = pd.DataFrame(scaled_features, columns=df.columns[:-1])\n",
    "df_predictors"
   ]
  },
  {
   "cell_type": "markdown",
   "id": "2205415f",
   "metadata": {},
   "source": [
    "#### Visualize correlation among the features, also check if there is multicollinearity present in data"
   ]
  },
  {
   "cell_type": "code",
   "execution_count": null,
   "id": "c552343d",
   "metadata": {},
   "outputs": [],
   "source": [
    "#heatmap\n",
    "fig = plt.figure(figsize=(10,10))\n",
    "sns.heatmap(df.corr(), annot=True)"
   ]
  },
  {
   "cell_type": "markdown",
   "id": "ec41ac56",
   "metadata": {},
   "source": [
    "##### Observation : Internship and CGPA is highly correlated with dependent feature i.e PlacedOrNot"
   ]
  },
  {
   "cell_type": "markdown",
   "id": "c2590e13",
   "metadata": {},
   "source": [
    "#### Split the data into train and test and check the shapes"
   ]
  },
  {
   "cell_type": "code",
   "execution_count": null,
   "id": "6825e917",
   "metadata": {},
   "outputs": [],
   "source": [
    "#Splitting data into train and test\n",
    "X_train, X_test, y_train, y_test = train_test_split(df_predictors, df['PlacedOrNot'], test_size = 0.25, random_state = 0)"
   ]
  },
  {
   "cell_type": "code",
   "execution_count": null,
   "id": "b43d4877",
   "metadata": {},
   "outputs": [],
   "source": [
    "print(f'Shape of X_train - {X_train.shape}\\nShape of X_test - {X_test.shape}\\nShape of y_train - {y_train.shape}\\nShape of y_test - {y_test.shape}')"
   ]
  },
  {
   "cell_type": "code",
   "execution_count": null,
   "id": "952c6e24",
   "metadata": {},
   "outputs": [],
   "source": [
    "X_train.head()"
   ]
  },
  {
   "cell_type": "code",
   "execution_count": null,
   "id": "73e3bcce",
   "metadata": {},
   "outputs": [],
   "source": [
    "X_test.head()"
   ]
  },
  {
   "cell_type": "code",
   "execution_count": null,
   "id": "a2a615ab",
   "metadata": {},
   "outputs": [],
   "source": [
    "y_train.head()"
   ]
  },
  {
   "cell_type": "code",
   "execution_count": null,
   "id": "f7d484b0",
   "metadata": {},
   "outputs": [],
   "source": [
    "y_test.head()"
   ]
  },
  {
   "cell_type": "markdown",
   "id": "f6117d10",
   "metadata": {},
   "source": [
    "#### Apply Logistic regression, Decision Tree, Random Forest, Xg-Boost, K Neighbors Classifer"
   ]
  },
  {
   "cell_type": "code",
   "execution_count": null,
   "id": "bd385c32",
   "metadata": {},
   "outputs": [],
   "source": [
    "models = {\"LogisticRegression\":LogisticRegression(),\n",
    "         \"DecisionTree\":DecisionTreeClassifier(),\n",
    "         \"RandomForest\":RandomForestClassifier(),\n",
    "         \"XgBoost\": XGBClassifier(),\n",
    "         \"KNeighborsClassifier\":KNeighborsClassifier()}"
   ]
  },
  {
   "cell_type": "code",
   "execution_count": null,
   "id": "c708806e",
   "metadata": {},
   "outputs": [],
   "source": [
    "model_list = [(\"LogisticRegression\", LogisticRegression()),\n",
    "         (\"DecisionTree\", DecisionTreeClassifier()),\n",
    "         (\"RandomForest\", RandomForestClassifier()),\n",
    "         (\"XgBoost\", XGBClassifier()),\n",
    "         (\"KNeighborsClassifier\", KNeighborsClassifier())]"
   ]
  },
  {
   "cell_type": "markdown",
   "id": "6520aa4e",
   "metadata": {},
   "source": [
    "#### Visualize model scores of all the algorithms applied"
   ]
  },
  {
   "cell_type": "code",
   "execution_count": null,
   "id": "006002af",
   "metadata": {},
   "outputs": [],
   "source": [
    "# accuracy score on train dataset for all models  \n",
    "for model_name, model in model_list:\n",
    "    m = model.fit(X_train,y_train)\n",
    "    y_pred = model.predict(X_train)\n",
    "    print(f'{model_name} : {accuracy_score(y_train,y_pred)}')    "
   ]
  },
  {
   "cell_type": "code",
   "execution_count": null,
   "id": "78ec6ce1",
   "metadata": {},
   "outputs": [],
   "source": [
    "# accuracy score on test dataset for all models  \n",
    "for model_name,model in model_list:\n",
    "    m = model.fit(X_train,y_train)\n",
    "    y_pred = model.predict(X_test)\n",
    "    print(f'{model_name} : {accuracy_score(y_test,y_pred)}')"
   ]
  },
  {
   "cell_type": "markdown",
   "id": "b54878ce",
   "metadata": {},
   "source": [
    "#### Perform Hyper parameter tuning "
   ]
  },
  {
   "cell_type": "code",
   "execution_count": null,
   "id": "a41031a2",
   "metadata": {},
   "outputs": [],
   "source": [
    "algos = {\n",
    "    'Random Forest':{\n",
    "        'model':RandomForestClassifier(),\n",
    "        'params':{\n",
    "            'n_estimators':[10,20,30,40],\n",
    "            'criterion':['gini','entropy'],\n",
    "            'max_depth':[10,20,30],\n",
    "            'min_samples_split':[2,4,6]\n",
    "        }\n",
    "    },\n",
    "    'Decision Tree':{\n",
    "        'model':DecisionTreeClassifier(),\n",
    "        'params':{\n",
    "            'criterion':['gini','entropy'],\n",
    "            'max_depth':[10,20,30],\n",
    "            'splitter':['best','random'],\n",
    "        }\n",
    "\n",
    "    }\n",
    "    \n",
    "}\n",
    "\n",
    "scores = []\n",
    "\n",
    "cv = ShuffleSplit(n_splits=10,test_size=0.2,random_state=42)\n",
    "\n",
    "for model_name,config in algos.items():\n",
    "   gd = GridSearchCV(estimator=config['model'], param_grid=config['params'], cv=cv, return_train_score=False)\n",
    "   gd.fit(df_predictors, df['PlacedOrNot'])\n",
    "   scores.append({'model_name':model_name,'best_score':gd.best_score_,'best_params':gd.best_params_})\n",
    "\n",
    "scores = pd.DataFrame(scores)\n",
    "scores.head()"
   ]
  },
  {
   "cell_type": "markdown",
   "id": "23418d50",
   "metadata": {},
   "source": [
    "#### Check for best estimator and hyper parameter "
   ]
  },
  {
   "cell_type": "code",
   "execution_count": null,
   "id": "28badd75",
   "metadata": {},
   "outputs": [],
   "source": [
    "gd.best_estimator_"
   ]
  },
  {
   "cell_type": "code",
   "execution_count": null,
   "id": "0df950ab",
   "metadata": {},
   "outputs": [],
   "source": [
    "gd.best_params_"
   ]
  },
  {
   "cell_type": "markdown",
   "id": "a7307e74",
   "metadata": {},
   "source": [
    "#### Training model with best hyper parameters"
   ]
  },
  {
   "cell_type": "code",
   "execution_count": null,
   "id": "27380eb5",
   "metadata": {},
   "outputs": [],
   "source": [
    "classifier = DecisionTreeClassifier(max_depth=10, criterion='gini', splitter='best')\n",
    "classifier"
   ]
  },
  {
   "cell_type": "code",
   "execution_count": null,
   "id": "84d38dfe",
   "metadata": {},
   "outputs": [],
   "source": [
    "classifier.fit(X_train, y_train)\n",
    "y_pred = classifier.predict(X_test)\n",
    "print(f\"Accuracy: {accuracy_score(y_test, y_pred)}\")"
   ]
  },
  {
   "cell_type": "markdown",
   "id": "017521ef",
   "metadata": {},
   "source": [
    "####  Plot Confusion matrix"
   ]
  },
  {
   "cell_type": "code",
   "execution_count": null,
   "id": "55fd3a60",
   "metadata": {},
   "outputs": [],
   "source": [
    "plot_confusion_matrix(classifier,\n",
    "                      X_test, y_test,\n",
    "                      cmap = plt.cm.Blues,\n",
    "                      display_labels = ['Not Placed', 'Placed'])\n",
    "plt.grid(False)\n",
    "plt.show();"
   ]
  },
  {
   "cell_type": "markdown",
   "id": "39367f50",
   "metadata": {},
   "source": [
    "##### Accuracy = (TP+FP)/(TP+FP+TN+FN)"
   ]
  },
  {
   "cell_type": "code",
   "execution_count": null,
   "id": "b0736ebf",
   "metadata": {},
   "outputs": [],
   "source": [
    "#Accuracy\n",
    "(312+349)/(312+17+349+64)*100"
   ]
  },
  {
   "cell_type": "markdown",
   "id": "185845a4",
   "metadata": {},
   "source": [
    "##### Precision = TP/(TP+FP)\n",
    "Focuses on False Positives"
   ]
  },
  {
   "cell_type": "code",
   "execution_count": null,
   "id": "94f0e7bc",
   "metadata": {},
   "outputs": [],
   "source": [
    "349/(349+17)*100"
   ]
  },
  {
   "cell_type": "markdown",
   "id": "08bfec12",
   "metadata": {},
   "source": [
    "##### Recall= TP/(TP+FN)\n",
    "Focuses on False Negatives"
   ]
  },
  {
   "cell_type": "code",
   "execution_count": null,
   "id": "f1769f7b",
   "metadata": {},
   "outputs": [],
   "source": [
    "349/(349+64)*100"
   ]
  },
  {
   "cell_type": "markdown",
   "id": "b1e8a860",
   "metadata": {},
   "source": [
    "##### Observation : "
   ]
  },
  {
   "cell_type": "markdown",
   "id": "202adf95",
   "metadata": {},
   "source": [
    "**END OF DOCUMENT**"
   ]
  }
 ],
 "metadata": {
  "kernelspec": {
   "display_name": "Python 3 (ipykernel)",
   "language": "python",
   "name": "python3"
  },
  "language_info": {
   "codemirror_mode": {
    "name": "ipython",
    "version": 3
   },
   "file_extension": ".py",
   "mimetype": "text/x-python",
   "name": "python",
   "nbconvert_exporter": "python",
   "pygments_lexer": "ipython3",
   "version": "3.9.13"
  }
 },
 "nbformat": 4,
 "nbformat_minor": 5
}
